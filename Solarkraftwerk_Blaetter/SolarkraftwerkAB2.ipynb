{
 "cells": [
  {
   "cell_type": "markdown",
   "metadata": {},
   "source": [
    "# Solarkraftwerk - Aufgabenblatt 2: Die Leistung der Sonnenstrahlung am Spiegel\n",
    "## Einleitung\n",
    "Die Leistung ist eine der wichtigsten Kennzahlen eines Kraftwerks. Sie gibt an, wie viel Energie pro Zeiteinheit erzeugt wird. Mit ihr lässt sich ermitteln, wie viel Kilowattstunden Strom ein Kraftwerk im Jahr liefern kann und wieviele Haushalte demzufolge versorgt werden können. Das gilt auch für das Fresnel-Kraftwerk  Um berechnen zu können, wie viel Leistung das Kraftwerk liefert, muss zunächst bestimmt werden, welche Leistung am Spiegel durch Sonnenstrahlung ankommt. "
   ]
  },
  {
   "cell_type": "code",
   "execution_count": null,
   "metadata": {},
   "outputs": [],
   "source": []
  }
 ],
 "metadata": {
  "kernelspec": {
   "display_name": "Julia 1.0.2",
   "language": "julia",
   "name": "julia-1.0"
  },
  "language_info": {
   "file_extension": ".jl",
   "mimetype": "application/julia",
   "name": "julia",
   "version": "1.0.2"
  }
 },
 "nbformat": 4,
 "nbformat_minor": 2
}
